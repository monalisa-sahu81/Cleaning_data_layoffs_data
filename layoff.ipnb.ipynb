{
 "cells": [
  {
   "cell_type": "code",
   "execution_count": 1,
   "id": "2fedec5d",
   "metadata": {},
   "outputs": [],
   "source": [
    "import pandas as pd\n",
    "import numpy as np"
   ]
  },
  {
   "cell_type": "code",
   "execution_count": 7,
   "id": "9100e5b7",
   "metadata": {},
   "outputs": [],
   "source": [
    "df = pd.read_csv(\"layoffs_data.csv\")\n",
    "\n"
   ]
  },
  {
   "cell_type": "code",
   "execution_count": 8,
   "id": "9b172a59",
   "metadata": {},
   "outputs": [
    {
     "name": "stdout",
     "output_type": "stream",
     "text": [
      "Initial shape: (3642, 12)\n"
     ]
    }
   ],
   "source": [
    "print(\"Initial shape:\", df.shape)"
   ]
  },
  {
   "cell_type": "code",
   "execution_count": 9,
   "id": "57d2650f",
   "metadata": {},
   "outputs": [
    {
     "name": "stdout",
     "output_type": "stream",
     "text": [
      "\n",
      "Sample data:\n",
      "        Company    Location_HQ   Industry  Laid_Off_Count        Date  \\\n",
      "0          Oda           Oslo       Food           150.0  2024-06-05   \n",
      "1       Pagaya       Tel Aviv    Finance           100.0  2024-06-05   \n",
      "2  Aleph Farms       Tel Aviv       Food            30.0  2024-06-05   \n",
      "3      MoonPay          Dover     Crypto            30.0  2024-06-05   \n",
      "4         Yext  New York City  Marketing             NaN  2024-06-05   \n",
      "\n",
      "                                              Source  Funds_Raised     Stage  \\\n",
      "0  https://techcrunch.com/2024/06/05/softbank-bac...         691.0   Unknown   \n",
      "1  https://www.calcalistech.com/ctechnews/article...        2000.0  Post-IPO   \n",
      "2  https://www.calcalistech.com/ctechnews/article...         119.0   Unknown   \n",
      "3  https://www.theblock.co/post/298638/moonpay-la...         651.0   Unknown   \n",
      "4  https://www.investing.com/news/economy-news/ye...         117.0  Post-IPO   \n",
      "\n",
      "            Date_Added        Country  Percentage List_of_Employees_Laid_Off  \n",
      "0  2024-06-05 18:01:25         Norway         NaN                    Unknown  \n",
      "1  2024-06-05 23:11:24         Israel        0.20                    Unknown  \n",
      "2  2024-06-05 23:13:43         Israel        0.30                    Unknown  \n",
      "3  2024-06-05 23:12:47  United States        0.10                    Unknown  \n",
      "4  2024-06-05 18:02:40  United States        0.12                    Unknown  \n"
     ]
    }
   ],
   "source": [
    "print(\"\\nSample data:\\n\", df.head())"
   ]
  },
  {
   "cell_type": "code",
   "execution_count": 10,
   "id": "f94ed399",
   "metadata": {},
   "outputs": [
    {
     "name": "stdout",
     "output_type": "stream",
     "text": [
      "\n",
      "Info:\n",
      "<class 'pandas.core.frame.DataFrame'>\n",
      "RangeIndex: 3642 entries, 0 to 3641\n",
      "Data columns (total 12 columns):\n",
      " #   Column                      Non-Null Count  Dtype  \n",
      "---  ------                      --------------  -----  \n",
      " 0   Company                     3642 non-null   object \n",
      " 1   Location_HQ                 3642 non-null   object \n",
      " 2   Industry                    3642 non-null   object \n",
      " 3   Laid_Off_Count              2389 non-null   float64\n",
      " 4   Date                        3642 non-null   object \n",
      " 5   Source                      3642 non-null   object \n",
      " 6   Funds_Raised                3252 non-null   float64\n",
      " 7   Stage                       3642 non-null   object \n",
      " 8   Date_Added                  3642 non-null   object \n",
      " 9   Country                     3642 non-null   object \n",
      " 10  Percentage                  2342 non-null   float64\n",
      " 11  List_of_Employees_Laid_Off  3642 non-null   object \n",
      "dtypes: float64(3), object(9)\n",
      "memory usage: 341.6+ KB\n",
      "None\n"
     ]
    }
   ],
   "source": [
    "print(\"\\nInfo:\")\n",
    "print(df.info())"
   ]
  },
  {
   "cell_type": "code",
   "execution_count": 11,
   "id": "b0623d19",
   "metadata": {},
   "outputs": [
    {
     "name": "stdout",
     "output_type": "stream",
     "text": [
      "\n",
      "Missing values:\n",
      "Company                          0\n",
      "Location_HQ                      0\n",
      "Industry                         0\n",
      "Laid_Off_Count                1253\n",
      "Date                             0\n",
      "Source                           0\n",
      "Funds_Raised                   390\n",
      "Stage                            0\n",
      "Date_Added                       0\n",
      "Country                          0\n",
      "Percentage                    1300\n",
      "List_of_Employees_Laid_Off       0\n",
      "dtype: int64\n"
     ]
    }
   ],
   "source": [
    "print(\"\\nMissing values:\")\n",
    "print(df.isnull().sum())"
   ]
  },
  {
   "cell_type": "code",
   "execution_count": 12,
   "id": "7e1d780d",
   "metadata": {},
   "outputs": [
    {
     "name": "stdout",
     "output_type": "stream",
     "text": [
      "\n",
      "Renamed columns: ['company', 'location_hq', 'industry', 'laid_off_count', 'date', 'source', 'funds_raised', 'stage', 'date_added', 'country', 'percentage', 'list_of_employees_laid_off']\n"
     ]
    }
   ],
   "source": [
    "df.columns = (df.columns\n",
    "                .str.strip()                 # remove leading/trailing spaces\n",
    "                .str.lower()                 # lowercase\n",
    "                .str.replace(\" \", \"_\")       # replace spaces with _\n",
    "                .str.replace(\"(\", \"\")\n",
    "                .str.replace(\")\", \"\")\n",
    "             )\n",
    "\n",
    "print(\"\\nRenamed columns:\", df.columns.tolist())"
   ]
  },
  {
   "cell_type": "code",
   "execution_count": 13,
   "id": "694fb29e",
   "metadata": {},
   "outputs": [
    {
     "name": "stdout",
     "output_type": "stream",
     "text": [
      "Duplicates before: 0\n",
      "Duplicates after: 0\n"
     ]
    }
   ],
   "source": [
    "print(\"Duplicates before:\", df.duplicated().sum())\n",
    "df = df.drop_duplicates()\n",
    "print(\"Duplicates after:\", df.duplicated().sum())"
   ]
  },
  {
   "cell_type": "code",
   "execution_count": 14,
   "id": "ee920ccc",
   "metadata": {},
   "outputs": [
    {
     "name": "stdout",
     "output_type": "stream",
     "text": [
      "\n",
      "Missing values after cleaning:\n",
      "company                       0\n",
      "location_hq                   0\n",
      "industry                      0\n",
      "laid_off_count                0\n",
      "date                          0\n",
      "source                        0\n",
      "funds_raised                  0\n",
      "stage                         0\n",
      "date_added                    0\n",
      "country                       0\n",
      "percentage                    0\n",
      "list_of_employees_laid_off    0\n",
      "dtype: int64\n"
     ]
    }
   ],
   "source": [
    "num_cols = df.select_dtypes(include=[np.number]).columns\n",
    "for c in num_cols:\n",
    "    if df[c].isnull().sum() > 0:\n",
    "        df[c].fillna(df[c].median(), inplace=True)\n",
    "\n",
    "# Categorical → fill with \"Unknown\"\n",
    "cat_cols = df.select_dtypes(include=['object']).columns\n",
    "for c in cat_cols:\n",
    "    if df[c].isnull().sum() > 0:\n",
    "        df[c].fillna(\"Unknown\", inplace=True)\n",
    "\n",
    "print(\"\\nMissing values after cleaning:\")\n",
    "print(df.isnull().sum())"
   ]
  },
  {
   "cell_type": "code",
   "execution_count": 16,
   "id": "61d2b502",
   "metadata": {},
   "outputs": [
    {
     "name": "stdout",
     "output_type": "stream",
     "text": [
      "\n",
      "Final shape: (3642, 12)\n",
      "<class 'pandas.core.frame.DataFrame'>\n",
      "RangeIndex: 3642 entries, 0 to 3641\n",
      "Data columns (total 12 columns):\n",
      " #   Column                      Non-Null Count  Dtype         \n",
      "---  ------                      --------------  -----         \n",
      " 0   company                     3642 non-null   object        \n",
      " 1   location_hq                 3642 non-null   object        \n",
      " 2   industry                    3642 non-null   object        \n",
      " 3   laid_off_count              3642 non-null   float64       \n",
      " 4   date                        1560 non-null   datetime64[ns]\n",
      " 5   source                      3642 non-null   object        \n",
      " 6   funds_raised                3642 non-null   float64       \n",
      " 7   stage                       3642 non-null   object        \n",
      " 8   date_added                  3642 non-null   object        \n",
      " 9   country                     3642 non-null   object        \n",
      " 10  percentage                  3642 non-null   float64       \n",
      " 11  list_of_employees_laid_off  3642 non-null   object        \n",
      "dtypes: datetime64[ns](1), float64(3), object(8)\n",
      "memory usage: 341.6+ KB\n",
      "None\n"
     ]
    }
   ],
   "source": [
    "print(\"\\nFinal shape:\", df.shape)\n",
    "print(df.info())"
   ]
  },
  {
   "cell_type": "code",
   "execution_count": 17,
   "id": "6c92e445",
   "metadata": {},
   "outputs": [
    {
     "name": "stdout",
     "output_type": "stream",
     "text": [
      "✅ Cleaned dataset saved as cleaned_dataset.csv\n"
     ]
    }
   ],
   "source": [
    "df.to_csv(\"cleaned_dataset.csv\", index=False)\n",
    "print(\"✅ Cleaned dataset saved as cleaned_dataset.csv\")"
   ]
  },
  {
   "cell_type": "code",
   "execution_count": null,
   "id": "ef2addb9",
   "metadata": {},
   "outputs": [],
   "source": []
  }
 ],
 "metadata": {
  "kernelspec": {
   "display_name": "Python 3 (ipykernel)",
   "language": "python",
   "name": "python3"
  },
  "language_info": {
   "codemirror_mode": {
    "name": "ipython",
    "version": 3
   },
   "file_extension": ".py",
   "mimetype": "text/x-python",
   "name": "python",
   "nbconvert_exporter": "python",
   "pygments_lexer": "ipython3",
   "version": "3.11.5"
  }
 },
 "nbformat": 4,
 "nbformat_minor": 5
}
